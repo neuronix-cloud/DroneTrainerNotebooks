{
 "cells": [
  {
   "cell_type": "code",
   "execution_count": 11,
   "metadata": {},
   "outputs": [],
   "source": [
    "from __future__ import print_function\n",
    "import requests as rq\n",
    "import time, os\n",
    "import matplotlib.image as pli\n",
    "import matplotlib.pyplot as plt\n",
    "ip=!ifconfig eth0 | grep -Po 'inet \\K([\\d\\.]+)'\n",
    "ip=ip[0]\n",
    "from IPython.core.display import HTML as H\n",
    "\n",
    "#HTML('<img src=\"http://%s:3000/video/0\">'%ip)\n",
    "#HTML('<img width=\"320\" src=\"http://%s:3000/move/left/20/100?%d\">'%(ip,int(time.time()*10)))"
   ]
  },
  {
   "cell_type": "code",
   "execution_count": null,
   "metadata": {},
   "outputs": [],
   "source": [
    "# take a snapshot\n",
    "def snap(i,  pref):\n",
    "    url = \"http://%s:3000/move/left/20/100?%d\"%(ip,int(time.time()*10))\n",
    "    r = rq.get(url)\n",
    "    file = \"%s-%d.jpg\"%(pref,i)\n",
    "    content = r.content\n",
    "    with open(file, \"wb\") as f:\n",
    "        f.write(content)\n",
    "    return file\n",
    "#snap(0, \"tmp/snap\")\n",
    "#for i in range(25): snap(i, \"tmp/test\")"
   ]
  },
  {
   "cell_type": "code",
   "execution_count": null,
   "metadata": {},
   "outputs": [],
   "source": [
    "# move to destination\n",
    "def move(pref, dir, tot, n,m):\n",
    "    os.makedirs(\"%s/ok\"%dir, 0o755, exist_ok=True)\n",
    "    os.makedirs(\"%s/ko\"%dir, 0o755, exist_ok=True)\n",
    "    count = int(time.time()*1000)\n",
    "    for i in range(0,tot):\n",
    "        src = \"%s-%d.jpg\" % (pref,i)\n",
    "        label = \"ok\" if i >= n and i <= m else \"ko\"    \n",
    "        tgt = \"%s/%s/%d.jpg\" % (dir, label, count)\n",
    "        count += 1\n",
    "        print(\"mv %s %s\", src,tgt)\n",
    "        try: os.rename(src,tgt)\n",
    "        except: print(\"not found\", src)\n",
    "#move(pref, \"data\", 25, 9, 17)"
   ]
  },
  {
   "cell_type": "code",
   "execution_count": null,
   "metadata": {},
   "outputs": [],
   "source": [
    "# take snapshot spinning\n",
    "pref = \"tmp/snap\"\n",
    "os.makedirs(\"tmp\", 0x755, exist_ok=True)\n",
    "\n",
    "nr = 5\n",
    "nc = 5\n",
    "\n",
    "fig = plt.gcf()\n",
    "fig.set_size_inches(nc*4, nr*4)\n",
    "\n",
    "for i in range(0, nr*nc):\n",
    "    file = snap(i, \"tmp/snap\")\n",
    "    #file = \"%s-%d.jpg\"%(pref,i)\n",
    "    #print(file)\n",
    "    img = pli.imread(file)\n",
    "    plt.subplot(nr,nc,i+1).axis('Off')\n",
    "    plt.title(\"%s\"%i)\n",
    "    plt.imshow(img)"
   ]
  },
  {
   "cell_type": "code",
   "execution_count": null,
   "metadata": {},
   "outputs": [],
   "source": [
    "# move to dest\n",
    "move(pref, \"test\", 25, 4, 10)"
   ]
  },
  {
   "cell_type": "code",
   "execution_count": 16,
   "metadata": {},
   "outputs": [
    {
     "data": {
      "text/html": [
       "<img src='data/ok/1573570562613.jpg'>"
      ],
      "text/plain": [
       "<IPython.core.display.HTML object>"
      ]
     },
     "execution_count": 16,
     "metadata": {},
     "output_type": "execute_result"
    }
   ],
   "source": [
    "n = 0\n",
    "dir = \"data/ok\"\n",
    "file = os.listdir(dir)[n]\n",
    "H(f\"<img src='{dir}/{file}'>\")"
   ]
  },
  {
   "cell_type": "code",
   "execution_count": null,
   "metadata": {},
   "outputs": [],
   "source": []
  }
 ],
 "metadata": {
  "kernelspec": {
   "display_name": "Python 3",
   "language": "python",
   "name": "python3"
  },
  "language_info": {
   "codemirror_mode": {
    "name": "ipython",
    "version": 3
   },
   "file_extension": ".py",
   "mimetype": "text/x-python",
   "name": "python",
   "nbconvert_exporter": "python",
   "pygments_lexer": "ipython3",
   "version": "3.6.8"
  }
 },
 "nbformat": 4,
 "nbformat_minor": 2
}
