{
 "cells": [
  {
   "cell_type": "code",
   "execution_count": 2,
   "metadata": {},
   "outputs": [
    {
     "data": {
      "text/html": [
       "<img src=\"http://192.168.0.32:3000/video/0\">"
      ],
      "text/plain": [
       "<IPython.core.display.HTML object>"
      ]
     },
     "execution_count": 2,
     "metadata": {},
     "output_type": "execute_result"
    }
   ],
   "source": [
    "from __future__ import print_function\n",
    "from ipywidgets import interact, interactive, fixed, interact_manual\n",
    "import ipywidgets as widgets\n",
    "from ipywidgets import HBox as H\n",
    "from ipywidgets import VBox as V\n",
    "import time as timer\n",
    "ip=!ifconfig eth0 | grep -Po 'inet \\K([\\d\\.]+)'\n",
    "ip=ip[0]\n",
    "from IPython.core.display import HTML\n",
    "HTML('<img src=\"http://%s:3000/video/0\">'%ip)"
   ]
  },
  {
   "cell_type": "code",
   "execution_count": 3,
   "metadata": {},
   "outputs": [
    {
     "data": {
      "application/vnd.jupyter.widget-view+json": {
       "model_id": "622004211a734ad3ab553a4576410977",
       "version_major": 2,
       "version_minor": 0
      },
      "text/plain": [
       "VBox(children=(HBox(children=(Checkbox(value=False, description='Forward'), Checkbox(value=False, description=…"
      ]
     },
     "metadata": {},
     "output_type": "display_data"
    },
    {
     "data": {
      "application/vnd.jupyter.widget-view+json": {
       "model_id": "862ceb8867cd43f6b082ba5f70f408b5",
       "version_major": 2,
       "version_minor": 0
      },
      "text/plain": [
       "Output()"
      ]
     },
     "metadata": {},
     "output_type": "display_data"
    }
   ],
   "source": [
    "n = time = step_move = step_rotate = 0\n",
    "f = b = l = r = False\n",
    "def f(fw,bw,lt,rt):\n",
    "    global f, b, l, r, n\n",
    "    n += 1\n",
    "    dir = \"\"\n",
    "    if f != fw:\n",
    "        dir = \"forward/%d\" % step_move\n",
    "        f = fw\n",
    "    if b != bw:\n",
    "        dir = \"backward/%d\" % step_move\n",
    "        b = bw\n",
    "    if l != lt:\n",
    "        dir = \"left/%d\" % step_rotate\n",
    "        l = lt\n",
    "    if r != rt:\n",
    "        r = rt\n",
    "        dir = \"right/%d\" % step_rotate\n",
    "    html = '<img src=\"http://%s:3000/move/%s/%d?%d\">'%(ip, dir, time, n)\n",
    "    if dir != \"\":\n",
    "        display(HTML(html))\n",
    "        #print(html)\n",
    "    \n",
    "fw = widgets.Checkbox(description=\"Forward\")\n",
    "bw = widgets.Checkbox(description=\"Backward\")\n",
    "lt = widgets.Checkbox(description=\"Left\")\n",
    "rt = widgets.Checkbox(description=\"Right\")\n",
    "out = widgets.interactive_output(f, {'fw':fw,'lt':lt,'rt':rt,'bw':bw})\n",
    "box = V([H([fw,bw]),H([lt,rt])])\n",
    "display(box, out)\n",
    "# params\n",
    "time = 200\n",
    "step_move = 100\n",
    "step_rotate = 30\n"
   ]
  },
  {
   "cell_type": "code",
   "execution_count": null,
   "metadata": {},
   "outputs": [],
   "source": []
  }
 ],
 "metadata": {
  "kernelspec": {
   "display_name": "Python 3",
   "language": "python",
   "name": "python3"
  },
  "language_info": {
   "codemirror_mode": {
    "name": "ipython",
    "version": 3
   },
   "file_extension": ".py",
   "mimetype": "text/x-python",
   "name": "python",
   "nbconvert_exporter": "python",
   "pygments_lexer": "ipython3",
   "version": "3.6.8"
  }
 },
 "nbformat": 4,
 "nbformat_minor": 2
}
