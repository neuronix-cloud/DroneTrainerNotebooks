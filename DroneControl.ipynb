{
 "cells": [
  {
   "cell_type": "code",
   "execution_count": 79,
   "metadata": {},
   "outputs": [
    {
     "data": {
      "text/html": [
       "<img src=\"http://192.168.0.32:3000/video/0\">"
      ],
      "text/plain": [
       "<IPython.core.display.HTML object>"
      ]
     },
     "execution_count": 79,
     "metadata": {},
     "output_type": "execute_result"
    }
   ],
   "source": [
    "from __future__ import print_function\n",
    "from ipywidgets import interact, interactive, fixed, interact_manual\n",
    "import ipywidgets as widgets\n",
    "import time as timer\n",
    "ip=!ifconfig eth0 | grep -Po 'inet \\K([\\d\\.]+)'\n",
    "ip=ip[0]\n",
    "from IPython.core.display import HTML\n",
    "HTML('<img src=\"http://%s:3000/video/0\">'%ip)"
   ]
  },
  {
   "cell_type": "code",
   "execution_count": 86,
   "metadata": {},
   "outputs": [
    {
     "data": {
      "application/vnd.jupyter.widget-view+json": {
       "model_id": "192678f48e97444b8186cd043814e070",
       "version_major": 2,
       "version_minor": 0
      },
      "text/plain": [
       "VBox(children=(IntSlider(value=100, description='Time', max=200, min=10, step=10), IntSlider(value=50, descrip…"
      ]
     },
     "metadata": {},
     "output_type": "display_data"
    },
    {
     "data": {
      "application/vnd.jupyter.widget-view+json": {
       "model_id": "49f941af9c2c48ef8d4cf145827d841d",
       "version_major": 2,
       "version_minor": 0
      },
      "text/plain": [
       "Output()"
      ]
     },
     "metadata": {},
     "output_type": "display_data"
    }
   ],
   "source": [
    "time = widgets.IntSlider(\n",
    "     description=\"Time\",\n",
    "     value=100,\n",
    "     min=10,\n",
    "     max=200,\n",
    "     step=10\n",
    ")\n",
    "step = widgets.IntSlider(\n",
    "     description=\"Step\",\n",
    "     value=50,\n",
    "     min=10,\n",
    "     max=100,\n",
    "     step=5\n",
    ")\n",
    "move = widgets.ToggleButtons(\n",
    "    options=['forward', 'backward', 'left', 'right'],\n",
    "    description='Direction:',\n",
    "    disabled=False\n",
    ")\n",
    "go = widgets.Checkbox(description=\"Go\")\n",
    "ui = widgets.VBox([time, step, move, go])\n",
    "count=0\n",
    "def f3(time,step, move, go):\n",
    "    global count \n",
    "    count +=1\n",
    "    display(HTML('<img src=\"http://%s:3000/move/%s/%d/%d?%d\">'%(ip, move,time,step,count)))\n",
    "    \n",
    "out = widgets.interactive_output(f3, {'time': time, 'step': step, 'move': move, 'go':go})\n",
    "\n",
    "display(ui, out)"
   ]
  },
  {
   "cell_type": "code",
   "execution_count": null,
   "metadata": {},
   "outputs": [],
   "source": []
  }
 ],
 "metadata": {
  "kernelspec": {
   "display_name": "Python 3",
   "language": "python",
   "name": "python3"
  },
  "language_info": {
   "codemirror_mode": {
    "name": "ipython",
    "version": 3
   },
   "file_extension": ".py",
   "mimetype": "text/x-python",
   "name": "python",
   "nbconvert_exporter": "python",
   "pygments_lexer": "ipython3",
   "version": "3.6.8"
  }
 },
 "nbformat": 4,
 "nbformat_minor": 2
}
