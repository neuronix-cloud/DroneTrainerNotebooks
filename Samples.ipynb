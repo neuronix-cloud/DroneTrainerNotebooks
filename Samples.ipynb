{
 "cells": [
  {
   "cell_type": "code",
   "execution_count": 9,
   "metadata": {},
   "outputs": [],
   "source": [
    "from __future__ import print_function\n",
    "from ipywidgets import interact, interactive, fixed, interact_manual\n",
    "import ipywidgets as widgets\n",
    "from IPython.core.display import HTML\n",
    "ip=!ifconfig eth0 | grep -Po 'inet \\K([\\d\\.]+)'\n",
    "ip=ip[0]\n"
   ]
  },
  {
   "cell_type": "code",
   "execution_count": 6,
   "metadata": {},
   "outputs": [
    {
     "data": {
      "application/vnd.jupyter.widget-view+json": {
       "model_id": "78f7e2b9356043cfb5f17bbba040d484",
       "version_major": 2,
       "version_minor": 0
      },
      "text/plain": [
       "interactive(children=(Checkbox(value=True, description='x'), FloatSlider(value=1.0, description='y', max=3.0, …"
      ]
     },
     "metadata": {},
     "output_type": "display_data"
    }
   ],
   "source": [
    "@interact(x=True, y=1.0)\n",
    "def g(x, y):\n",
    "    return (x, y)"
   ]
  },
  {
   "cell_type": "code",
   "execution_count": 7,
   "metadata": {},
   "outputs": [
    {
     "data": {
      "application/vnd.jupyter.widget-view+json": {
       "model_id": "0b35a0f28e2344e7be8cffbb5433481e",
       "version_major": 2,
       "version_minor": 0
      },
      "text/plain": [
       "interactive(children=(FloatSlider(value=100000.0, description='i', max=10000000.0, min=100000.0, step=100000.0…"
      ]
     },
     "metadata": {},
     "output_type": "display_data"
    }
   ],
   "source": [
    "def f(i):\n",
    "    display(HTML(\"<h1>%d</h1>\"%i))\n",
    "\n",
    "interact_manual(f,i=widgets.FloatSlider(min=1e5, max=1e7, step=1e5));"
   ]
  },
  {
   "cell_type": "code",
   "execution_count": 10,
   "metadata": {},
   "outputs": [
    {
     "data": {
      "application/vnd.jupyter.widget-view+json": {
       "model_id": "841e8cc2b2264e62bf0854cced1e16de",
       "version_major": 2,
       "version_minor": 0
      },
      "text/plain": [
       "VBox(children=(IntSlider(value=100, description='Time', max=200, min=10, step=10), IntSlider(value=50, descrip…"
      ]
     },
     "metadata": {},
     "output_type": "display_data"
    },
    {
     "data": {
      "application/vnd.jupyter.widget-view+json": {
       "model_id": "88ad36be7e07439ba41128b957ee0a89",
       "version_major": 2,
       "version_minor": 0
      },
      "text/plain": [
       "Output()"
      ]
     },
     "metadata": {},
     "output_type": "display_data"
    }
   ],
   "source": [
    "time = widgets.IntSlider(\n",
    "     description=\"Time\",\n",
    "     value=100,\n",
    "     min=10,\n",
    "     max=200,\n",
    "     step=10\n",
    ")\n",
    "step = widgets.IntSlider(\n",
    "     description=\"Step\",\n",
    "     value=50,\n",
    "     min=10,\n",
    "     max=100,\n",
    "     step=5\n",
    ")\n",
    "move = widgets.ToggleButtons(\n",
    "    options=['forward', 'backward', 'left', 'right'],\n",
    "    description='Direction:',\n",
    "    disabled=False\n",
    ")\n",
    "go = widgets.Checkbox(description=\"Go\")\n",
    "ui = widgets.VBox([time, step, move, go])\n",
    "count=0\n",
    "def f3(time,step, move, go):\n",
    "    global count \n",
    "    count +=1\n",
    "    display(HTML('<img src=\"http://%s:3000/move/%s/%d/%d?%d\">'%(ip, move,time,step,count)))\n",
    "    \n",
    "out = widgets.interactive_output(f3, {'time': time, 'step': step, 'move': move, 'go':go})\n",
    "\n",
    "display(ui, out)"
   ]
  },
  {
   "cell_type": "code",
   "execution_count": null,
   "metadata": {},
   "outputs": [],
   "source": []
  }
 ],
 "metadata": {
  "kernelspec": {
   "display_name": "Python 3",
   "language": "python",
   "name": "python3"
  },
  "language_info": {
   "codemirror_mode": {
    "name": "ipython",
    "version": 3
   },
   "file_extension": ".py",
   "mimetype": "text/x-python",
   "name": "python",
   "nbconvert_exporter": "python",
   "pygments_lexer": "ipython3",
   "version": "3.6.8"
  }
 },
 "nbformat": 4,
 "nbformat_minor": 2
}
